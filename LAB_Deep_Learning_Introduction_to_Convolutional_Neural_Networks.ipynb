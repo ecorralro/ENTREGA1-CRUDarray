{
  "cells": [
    {
      "cell_type": "markdown",
      "metadata": {
        "id": "view-in-github",
        "colab_type": "text"
      },
      "source": [
        "<a href=\"https://colab.research.google.com/github/ecorralro/ENTREGA1-CRUDarray/blob/main/LAB_Deep_Learning_Introduction_to_Convolutional_Neural_Networks.ipynb\" target=\"_parent\"><img src=\"https://colab.research.google.com/assets/colab-badge.svg\" alt=\"Open In Colab\"/></a>"
      ]
    },
    {
      "cell_type": "markdown",
      "id": "e25a262d-2a63-4e89-91b3-be03f6a7d41d",
      "metadata": {
        "id": "e25a262d-2a63-4e89-91b3-be03f6a7d41d"
      },
      "source": [
        "## Iteration 1: Cat vs NoCat Classification"
      ]
    },
    {
      "cell_type": "markdown",
      "id": "d1784d4e-05f5-4f01-8ac3-4017b8ae4bc6",
      "metadata": {
        "id": "d1784d4e-05f5-4f01-8ac3-4017b8ae4bc6"
      },
      "source": [
        "In this iteration, we will focus on building a model capable of distinguishing between images that contain cats and those that do not. The goal is to create a binary classification system that can accurately predict whether a given image belongs to the \"Cat\" class or the \"NoCat\" class\n",
        "\n",
        "To achieve this, we will start by loading and exploring the dataset, followed by preprocessing the images to ensure they are suitable for training a Convolutional Neural Network (CNN). This step lays the foundation for building an effective model that can identify cats in images with high accuracy."
      ]
    },
    {
      "cell_type": "markdown",
      "id": "62d10811-1802-4362-b208-43d261e035b3",
      "metadata": {
        "id": "62d10811-1802-4362-b208-43d261e035b3"
      },
      "source": [
        "#### **NOTE**: Remeber import necesary libraries for this notebook."
      ]
    },
    {
      "cell_type": "markdown",
      "id": "44dbe40e-1346-4f81-9ecd-e53b40802d89",
      "metadata": {
        "id": "44dbe40e-1346-4f81-9ecd-e53b40802d89"
      },
      "source": [
        "### Step 1: Load the Dataset"
      ]
    },
    {
      "cell_type": "markdown",
      "id": "b0c244b6-6638-4f7f-8e53-7e52f48283c8",
      "metadata": {
        "id": "b0c244b6-6638-4f7f-8e53-7e52f48283c8"
      },
      "source": [
        "The first step is to obtain the dataset from [Kaggle](https://www.kaggle.com/datasets/muhammeddalkran/catvnoncat). For this lab, we will be using a dataset containing images of cats and non-cats. The dataset is typically stored in a compressed format, such as a .zip file, which you will need to extract to access the images."
      ]
    },
    {
      "cell_type": "code",
      "execution_count": null,
      "id": "9e9ddc9d-8b9e-4e66-bcfa-7df9ab271164",
      "metadata": {
        "id": "9e9ddc9d-8b9e-4e66-bcfa-7df9ab271164"
      },
      "outputs": [],
      "source": [
        "# # Your code goes here ...\n",
        "# !pip install kaggle\n",
        "\n",
        "# import os\n",
        "\n",
        "# # Set up Kaggle API credentials\n",
        "# os.environ['KAGGLE_USERNAME'] = 'eugeniocorral'\n",
        "# os.environ['KAGGLE_KEY'] = 'your_kaggle_api_key'\n",
        "\n",
        "# # Download a dataset\n",
        "# !kaggle datasets download -d dataset-owner/dataset-name\n",
        "\n",
        "# # Unzip the downloaded dataset\n",
        "# import zipfile\n",
        "# with zipfile.ZipFile('dataset-name.zip', 'r') as zip_ref:\n",
        "#     zip_ref.extractall('path_to_extract')"
      ]
    },
    {
      "cell_type": "code",
      "source": [
        "from google.colab import drive\n",
        "drive.mount('/content/drive')"
      ],
      "metadata": {
        "id": "Gfl_4VYaWcDb"
      },
      "id": "Gfl_4VYaWcDb",
      "execution_count": null,
      "outputs": []
    },
    {
      "cell_type": "markdown",
      "id": "fda84e1e-80b2-434f-abd2-a01d92deb1ab",
      "metadata": {
        "id": "fda84e1e-80b2-434f-abd2-a01d92deb1ab"
      },
      "source": [
        "### Step 2: Extract the Data"
      ]
    },
    {
      "cell_type": "markdown",
      "id": "9a0302ea-e1e8-498b-9c1b-b15decbdd605",
      "metadata": {
        "id": "9a0302ea-e1e8-498b-9c1b-b15decbdd605"
      },
      "source": [
        "In this step, we'll extract the images and labels from the `HDF5` files. These files contain the preprocessed dataset that we will use to train and evaluate our model. The h5py library allows us to efficiently load the data into memory.\n",
        "\n",
        "In the context of handling datasets stored in `HDF5` files, the images are typically already stored as arrays within the file. Therefore, when you load them using h5py, they are directly loaded as NumPy arrays, which is the format you would typically work with in machine learning pipelines."
      ]
    },
    {
      "cell_type": "code",
      "execution_count": 1,
      "id": "487d0b86-698f-4717-bc22-5c7905fb104c",
      "metadata": {
        "colab": {
          "base_uri": "https://localhost:8080/"
        },
        "id": "487d0b86-698f-4717-bc22-5c7905fb104c",
        "outputId": "e73b3f03-9f08-48bc-cf15-f8fb7f174ae0"
      },
      "outputs": [
        {
          "output_type": "stream",
          "name": "stdout",
          "text": [
            "Train images shape: (209, 64, 64, 3)\n",
            "Train labels shape: (209,)\n",
            "Test images shape: (50, 64, 64, 3)\n",
            "Test labels shape: (50,)\n"
          ]
        }
      ],
      "source": [
        "import h5py\n",
        "import numpy as np\n",
        "\n",
        "# Rutas de los archivos\n",
        "train_path = '/content/train_catvnoncat.h5'\n",
        "test_path = '/content/test_catvnoncat.h5'\n",
        "\n",
        "# Cargar los datos de entrenamiento\n",
        "with h5py.File(train_path, 'r') as train_file:\n",
        "    train_images = np.array(train_file['train_set_x'][:])  # Imágenes\n",
        "    train_labels = np.array(train_file['train_set_y'][:])  # Etiquetas\n",
        "\n",
        "# Cargar los datos de prueba\n",
        "with h5py.File(test_path, 'r') as test_file:\n",
        "    test_images = np.array(test_file['test_set_x'][:])  # Imágenes\n",
        "    test_labels = np.array(test_file['test_set_y'][:])  # Etiquetas\n",
        "\n",
        "# Verificar las dimensiones\n",
        "print(f\"Train images shape: {train_images.shape}\")\n",
        "print(f\"Train labels shape: {train_labels.shape}\")\n",
        "print(f\"Test images shape: {test_images.shape}\")\n",
        "print(f\"Test labels shape: {test_labels.shape}\")\n"
      ]
    },
    {
      "cell_type": "code",
      "source": [
        "import matplotlib.pyplot as plt\n",
        "\n",
        "plt.imshow(train_images[0])"
      ],
      "metadata": {
        "colab": {
          "base_uri": "https://localhost:8080/",
          "height": 449
        },
        "id": "3tS1dvM4a8GB",
        "outputId": "5b896738-e259-41c2-c197-0231706ad00b"
      },
      "id": "3tS1dvM4a8GB",
      "execution_count": 5,
      "outputs": [
        {
          "output_type": "execute_result",
          "data": {
            "text/plain": [
              "<matplotlib.image.AxesImage at 0x7aa906276b00>"
            ]
          },
          "metadata": {},
          "execution_count": 5
        },
        {
          "output_type": "display_data",
          "data": {
            "text/plain": [
              "<Figure size 640x480 with 1 Axes>"
            ],
            "image/png": "[encoded data removed]"
          },
          "metadata": {}
        }
      ]
    },
    {
      "cell_type": "markdown",
      "id": "31928494-83ed-4d76-8f16-762f3c3f6ce9",
      "metadata": {
        "id": "31928494-83ed-4d76-8f16-762f3c3f6ce9"
      },
      "source": [
        "### Step 3: Preprocess the Images"
      ]
    },
    {
      "cell_type": "markdown",
      "id": "1b8e446b-faf7-4b7a-855d-6e9549e3f47c",
      "metadata": {
        "id": "1b8e446b-faf7-4b7a-855d-6e9549e3f47c"
      },
      "source": [
        "Before feeding the images into a model, we need to preprocess them. Common preprocessing steps include:\n",
        "- **Normalizing** the pixel values.\n",
        "- **Resizing** the images."
      ]
    },
    {
      "cell_type": "code",
      "source": [
        "\n",
        "from tensorflow.keras.utils import to_categorical\n",
        "from tensorflow.image import resize\n",
        "from PIL import Image\n",
        "\n",
        "# Definir tamaño deseado para las imágenes\n",
        "target_size = (64, 64)  # Por ejemplo, 64x64 píxeles\n",
        "\n",
        "# Normalizar los píxeles: dividir entre 255 para tener valores entre 0 y 1\n",
        "train_images = train_images / 255.0\n",
        "test_images = test_images / 255.0\n",
        "\n",
        "# Redimensionar las imágenes al tamaño deseado\n",
        "train_images_resized = np.array([resize(img, target_size).numpy() for img in train_images])\n",
        "test_images_resized = np.array([resize(img, target_size).numpy() for img in test_images])\n",
        "\n",
        "# Asegurarse de que las etiquetas sean categóricas (si se usa clasificación)\n",
        "train_labels_categorical = to_categorical(train_labels, num_classes=2)  # 2 clases: gato y no gato\n",
        "test_labels_categorical = to_categorical(test_labels, num_classes=2)\n",
        "\n",
        "# Verificar las formas de los datos preprocesados\n",
        "print(f\"Train images resized shape: {train_images_resized.shape}\")\n",
        "print(f\"Test images resized shape: {test_images_resized.shape}\")\n",
        "print(f\"Train labels categorical shape: {train_labels_categorical.shape}\")\n",
        "print(f\"Test labels categorical shape: {test_labels_categorical.shape}\")\n"
      ],
      "metadata": {
        "colab": {
          "base_uri": "https://localhost:8080/"
        },
        "id": "zWnnHctfZg_Q",
        "outputId": "3ab8b2b5-039f-4097-bc70-8ca2000968c6"
      },
      "id": "zWnnHctfZg_Q",
      "execution_count": 3,
      "outputs": [
        {
          "output_type": "stream",
          "name": "stdout",
          "text": [
            "Train images resized shape: (209, 64, 64, 3)\n",
            "Test images resized shape: (50, 64, 64, 3)\n",
            "Train labels categorical shape: (209, 2)\n",
            "Test labels categorical shape: (50, 2)\n"
          ]
        }
      ]
    },
    {
      "cell_type": "markdown",
      "id": "dc4d933b-58b1-4ffc-917b-d9b0467b6158",
      "metadata": {
        "id": "dc4d933b-58b1-4ffc-917b-d9b0467b6158"
      },
      "source": [
        "### Step 4: Build and compile the Model"
      ]
    },
    {
      "cell_type": "markdown",
      "id": "cbd1d3e8-c4cf-4494-b293-41a8e3b56184",
      "metadata": {
        "id": "cbd1d3e8-c4cf-4494-b293-41a8e3b56184"
      },
      "source": [
        "Now, let's build a Convolutional Neural Network (CNN) model using  `TensorFlow/Keras`. The model will have several convolutional layers followed by pooling layers, and finally, fully connected layers for classification."
      ]
    },
    {
      "cell_type": "code",
      "execution_count": 7,
      "id": "033d0bc6-67d6-4622-aac8-574f653a12c6",
      "metadata": {
        "colab": {
          "base_uri": "https://localhost:8080/",
          "height": 504
        },
        "id": "033d0bc6-67d6-4622-aac8-574f653a12c6",
        "outputId": "cdf6fe44-4963-414f-fc5d-1e944405de08"
      },
      "outputs": [
        {
          "output_type": "stream",
          "name": "stderr",
          "text": [
            "/usr/local/lib/python3.10/dist-packages/keras/src/layers/convolutional/base_conv.py:107: UserWarning: Do not pass an `input_shape`/`input_dim` argument to a layer. When using Sequential models, prefer using an `Input(shape)` object as the first layer in the model instead.\n",
            "  super().__init__(activity_regularizer=activity_regularizer, **kwargs)\n"
          ]
        },
        {
          "output_type": "display_data",
          "data": {
            "text/plain": [
              "\u001b[1mModel: \"sequential\"\u001b[0m\n"
            ],
            "text/html": [
              "<pre style=\"white-space:pre;overflow-x:auto;line-height:normal;font-family:Menlo,'DejaVu Sans Mono',consolas,'Courier New',monospace\"><span style=\"font-weight: bold\">Model: \"sequential\"</span>\n",
              "</pre>\n"
            ]
          },
          "metadata": {}
        },
        {
          "output_type": "display_data",
          "data": {
            "text/plain": [
              "┏━━━━━━━━━━━━━━━━━━━━━━━━━━━━━━━━━━━━━━┳━━━━━━━━━━━━━━━━━━━━━━━━━━━━━┳━━━━━━━━━━━━━━━━━┓\n",
              "┃\u001b[1m \u001b[0m\u001b[1mLayer (type)                        \u001b[0m\u001b[1m \u001b[0m┃\u001b[1m \u001b[0m\u001b[1mOutput Shape               \u001b[0m\u001b[1m \u001b[0m┃\u001b[1m \u001b[0m\u001b[1m        Param #\u001b[0m\u001b[1m \u001b[0m┃\n",
              "┡━━━━━━━━━━━━━━━━━━━━━━━━━━━━━━━━━━━━━━╇━━━━━━━━━━━━━━━━━━━━━━━━━━━━━╇━━━━━━━━━━━━━━━━━┩\n",
              "│ conv2d (\u001b[38;5;33mConv2D\u001b[0m)                      │ (\u001b[38;5;45mNone\u001b[0m, \u001b[38;5;34m62\u001b[0m, \u001b[38;5;34m62\u001b[0m, \u001b[38;5;34m32\u001b[0m)          │             \u001b[38;5;34m896\u001b[0m │\n",
              "├──────────────────────────────────────┼─────────────────────────────┼─────────────────┤\n",
              "│ max_pooling2d (\u001b[38;5;33mMaxPooling2D\u001b[0m)         │ (\u001b[38;5;45mNone\u001b[0m, \u001b[38;5;34m31\u001b[0m, \u001b[38;5;34m31\u001b[0m, \u001b[38;5;34m32\u001b[0m)          │               \u001b[38;5;34m0\u001b[0m │\n",
              "├──────────────────────────────────────┼─────────────────────────────┼─────────────────┤\n",
              "│ conv2d_1 (\u001b[38;5;33mConv2D\u001b[0m)                    │ (\u001b[38;5;45mNone\u001b[0m, \u001b[38;5;34m29\u001b[0m, \u001b[38;5;34m29\u001b[0m, \u001b[38;5;34m64\u001b[0m)          │          \u001b[38;5;34m18,496\u001b[0m │\n",
              "├──────────────────────────────────────┼─────────────────────────────┼─────────────────┤\n",
              "│ max_pooling2d_1 (\u001b[38;5;33mMaxPooling2D\u001b[0m)       │ (\u001b[38;5;45mNone\u001b[0m, \u001b[38;5;34m14\u001b[0m, \u001b[38;5;34m14\u001b[0m, \u001b[38;5;34m64\u001b[0m)          │               \u001b[38;5;34m0\u001b[0m │\n",
              "├──────────────────────────────────────┼─────────────────────────────┼─────────────────┤\n",
              "│ conv2d_2 (\u001b[38;5;33mConv2D\u001b[0m)                    │ (\u001b[38;5;45mNone\u001b[0m, \u001b[38;5;34m12\u001b[0m, \u001b[38;5;34m12\u001b[0m, \u001b[38;5;34m128\u001b[0m)         │          \u001b[38;5;34m73,856\u001b[0m │\n",
              "├──────────────────────────────────────┼─────────────────────────────┼─────────────────┤\n",
              "│ max_pooling2d_2 (\u001b[38;5;33mMaxPooling2D\u001b[0m)       │ (\u001b[38;5;45mNone\u001b[0m, \u001b[38;5;34m6\u001b[0m, \u001b[38;5;34m6\u001b[0m, \u001b[38;5;34m128\u001b[0m)           │               \u001b[38;5;34m0\u001b[0m │\n",
              "├──────────────────────────────────────┼─────────────────────────────┼─────────────────┤\n",
              "│ flatten (\u001b[38;5;33mFlatten\u001b[0m)                    │ (\u001b[38;5;45mNone\u001b[0m, \u001b[38;5;34m4608\u001b[0m)                │               \u001b[38;5;34m0\u001b[0m │\n",
              "├──────────────────────────────────────┼─────────────────────────────┼─────────────────┤\n",
              "│ dense (\u001b[38;5;33mDense\u001b[0m)                        │ (\u001b[38;5;45mNone\u001b[0m, \u001b[38;5;34m128\u001b[0m)                 │         \u001b[38;5;34m589,952\u001b[0m │\n",
              "├──────────────────────────────────────┼─────────────────────────────┼─────────────────┤\n",
              "│ dropout (\u001b[38;5;33mDropout\u001b[0m)                    │ (\u001b[38;5;45mNone\u001b[0m, \u001b[38;5;34m128\u001b[0m)                 │               \u001b[38;5;34m0\u001b[0m │\n",
              "├──────────────────────────────────────┼─────────────────────────────┼─────────────────┤\n",
              "│ dense_1 (\u001b[38;5;33mDense\u001b[0m)                      │ (\u001b[38;5;45mNone\u001b[0m, \u001b[38;5;34m2\u001b[0m)                   │             \u001b[38;5;34m258\u001b[0m │\n",
              "└──────────────────────────────────────┴─────────────────────────────┴─────────────────┘\n"
            ],
            "text/html": [
              "<pre style=\"white-space:pre;overflow-x:auto;line-height:normal;font-family:Menlo,'DejaVu Sans Mono',consolas,'Courier New',monospace\">┏━━━━━━━━━━━━━━━━━━━━━━━━━━━━━━━━━━━━━━┳━━━━━━━━━━━━━━━━━━━━━━━━━━━━━┳━━━━━━━━━━━━━━━━━┓\n",
              "┃<span style=\"font-weight: bold\"> Layer (type)                         </span>┃<span style=\"font-weight: bold\"> Output Shape                </span>┃<span style=\"font-weight: bold\">         Param # </span>┃\n",
              "┡━━━━━━━━━━━━━━━━━━━━━━━━━━━━━━━━━━━━━━╇━━━━━━━━━━━━━━━━━━━━━━━━━━━━━╇━━━━━━━━━━━━━━━━━┩\n",
              "│ conv2d (<span style=\"color: #0087ff; text-decoration-color: #0087ff\">Conv2D</span>)                      │ (<span style=\"color: #00d7ff; text-decoration-color: #00d7ff\">None</span>, <span style=\"color: #00af00; text-decoration-color: #00af00\">62</span>, <span style=\"color: #00af00; text-decoration-color: #00af00\">62</span>, <span style=\"color: #00af00; text-decoration-color: #00af00\">32</span>)          │             <span style=\"color: #00af00; text-decoration-color: #00af00\">896</span> │\n",
              "├──────────────────────────────────────┼─────────────────────────────┼─────────────────┤\n",
              "│ max_pooling2d (<span style=\"color: #0087ff; text-decoration-color: #0087ff\">MaxPooling2D</span>)         │ (<span style=\"color: #00d7ff; text-decoration-color: #00d7ff\">None</span>, <span style=\"color: #00af00; text-decoration-color: #00af00\">31</span>, <span style=\"color: #00af00; text-decoration-color: #00af00\">31</span>, <span style=\"color: #00af00; text-decoration-color: #00af00\">32</span>)          │               <span style=\"color: #00af00; text-decoration-color: #00af00\">0</span> │\n",
              "├──────────────────────────────────────┼─────────────────────────────┼─────────────────┤\n",
              "│ conv2d_1 (<span style=\"color: #0087ff; text-decoration-color: #0087ff\">Conv2D</span>)                    │ (<span style=\"color: #00d7ff; text-decoration-color: #00d7ff\">None</span>, <span style=\"color: #00af00; text-decoration-color: #00af00\">29</span>, <span style=\"color: #00af00; text-decoration-color: #00af00\">29</span>, <span style=\"color: #00af00; text-decoration-color: #00af00\">64</span>)          │          <span style=\"color: #00af00; text-decoration-color: #00af00\">18,496</span> │\n",
              "├──────────────────────────────────────┼─────────────────────────────┼─────────────────┤\n",
              "│ max_pooling2d_1 (<span style=\"color: #0087ff; text-decoration-color: #0087ff\">MaxPooling2D</span>)       │ (<span style=\"color: #00d7ff; text-decoration-color: #00d7ff\">None</span>, <span style=\"color: #00af00; text-decoration-color: #00af00\">14</span>, <span style=\"color: #00af00; text-decoration-color: #00af00\">14</span>, <span style=\"color: #00af00; text-decoration-color: #00af00\">64</span>)          │               <span style=\"color: #00af00; text-decoration-color: #00af00\">0</span> │\n",
              "├──────────────────────────────────────┼─────────────────────────────┼─────────────────┤\n",
              "│ conv2d_2 (<span style=\"color: #0087ff; text-decoration-color: #0087ff\">Conv2D</span>)                    │ (<span style=\"color: #00d7ff; text-decoration-color: #00d7ff\">None</span>, <span style=\"color: #00af00; text-decoration-color: #00af00\">12</span>, <span style=\"color: #00af00; text-decoration-color: #00af00\">12</span>, <span style=\"color: #00af00; text-decoration-color: #00af00\">128</span>)         │          <span style=\"color: #00af00; text-decoration-color: #00af00\">73,856</span> │\n",
              "├──────────────────────────────────────┼─────────────────────────────┼─────────────────┤\n",
              "│ max_pooling2d_2 (<span style=\"color: #0087ff; text-decoration-color: #0087ff\">MaxPooling2D</span>)       │ (<span style=\"color: #00d7ff; text-decoration-color: #00d7ff\">None</span>, <span style=\"color: #00af00; text-decoration-color: #00af00\">6</span>, <span style=\"color: #00af00; text-decoration-color: #00af00\">6</span>, <span style=\"color: #00af00; text-decoration-color: #00af00\">128</span>)           │               <span style=\"color: #00af00; text-decoration-color: #00af00\">0</span> │\n",
              "├──────────────────────────────────────┼─────────────────────────────┼─────────────────┤\n",
              "│ flatten (<span style=\"color: #0087ff; text-decoration-color: #0087ff\">Flatten</span>)                    │ (<span style=\"color: #00d7ff; text-decoration-color: #00d7ff\">None</span>, <span style=\"color: #00af00; text-decoration-color: #00af00\">4608</span>)                │               <span style=\"color: #00af00; text-decoration-color: #00af00\">0</span> │\n",
              "├──────────────────────────────────────┼─────────────────────────────┼─────────────────┤\n",
              "│ dense (<span style=\"color: #0087ff; text-decoration-color: #0087ff\">Dense</span>)                        │ (<span style=\"color: #00d7ff; text-decoration-color: #00d7ff\">None</span>, <span style=\"color: #00af00; text-decoration-color: #00af00\">128</span>)                 │         <span style=\"color: #00af00; text-decoration-color: #00af00\">589,952</span> │\n",
              "├──────────────────────────────────────┼─────────────────────────────┼─────────────────┤\n",
              "│ dropout (<span style=\"color: #0087ff; text-decoration-color: #0087ff\">Dropout</span>)                    │ (<span style=\"color: #00d7ff; text-decoration-color: #00d7ff\">None</span>, <span style=\"color: #00af00; text-decoration-color: #00af00\">128</span>)                 │               <span style=\"color: #00af00; text-decoration-color: #00af00\">0</span> │\n",
              "├──────────────────────────────────────┼─────────────────────────────┼─────────────────┤\n",
              "│ dense_1 (<span style=\"color: #0087ff; text-decoration-color: #0087ff\">Dense</span>)                      │ (<span style=\"color: #00d7ff; text-decoration-color: #00d7ff\">None</span>, <span style=\"color: #00af00; text-decoration-color: #00af00\">2</span>)                   │             <span style=\"color: #00af00; text-decoration-color: #00af00\">258</span> │\n",
              "└──────────────────────────────────────┴─────────────────────────────┴─────────────────┘\n",
              "</pre>\n"
            ]
          },
          "metadata": {}
        },
        {
          "output_type": "display_data",
          "data": {
            "text/plain": [
              "\u001b[1m Total params: \u001b[0m\u001b[38;5;34m683,458\u001b[0m (2.61 MB)\n"
            ],
            "text/html": [
              "<pre style=\"white-space:pre;overflow-x:auto;line-height:normal;font-family:Menlo,'DejaVu Sans Mono',consolas,'Courier New',monospace\"><span style=\"font-weight: bold\"> Total params: </span><span style=\"color: #00af00; text-decoration-color: #00af00\">683,458</span> (2.61 MB)\n",
              "</pre>\n"
            ]
          },
          "metadata": {}
        },
        {
          "output_type": "display_data",
          "data": {
            "text/plain": [
              "\u001b[1m Trainable params: \u001b[0m\u001b[38;5;34m683,458\u001b[0m (2.61 MB)\n"
            ],
            "text/html": [
              "<pre style=\"white-space:pre;overflow-x:auto;line-height:normal;font-family:Menlo,'DejaVu Sans Mono',consolas,'Courier New',monospace\"><span style=\"font-weight: bold\"> Trainable params: </span><span style=\"color: #00af00; text-decoration-color: #00af00\">683,458</span> (2.61 MB)\n",
              "</pre>\n"
            ]
          },
          "metadata": {}
        },
        {
          "output_type": "display_data",
          "data": {
            "text/plain": [
              "\u001b[1m Non-trainable params: \u001b[0m\u001b[38;5;34m0\u001b[0m (0.00 B)\n"
            ],
            "text/html": [
              "<pre style=\"white-space:pre;overflow-x:auto;line-height:normal;font-family:Menlo,'DejaVu Sans Mono',consolas,'Courier New',monospace\"><span style=\"font-weight: bold\"> Non-trainable params: </span><span style=\"color: #00af00; text-decoration-color: #00af00\">0</span> (0.00 B)\n",
              "</pre>\n"
            ]
          },
          "metadata": {}
        }
      ],
      "source": [
        "from tensorflow.keras.models import Sequential\n",
        "from tensorflow.keras.layers import Conv2D, MaxPooling2D, Flatten, Dense, Dropout\n",
        "from tensorflow.keras.optimizers import Adam\n",
        "# Your code goes here ...\n",
        "# Definir la arquitectura del modelo\n",
        "model = Sequential([\n",
        "    # Primera capa convolucional\n",
        "    Conv2D(32, (3, 3), activation='relu', input_shape=(64, 64, 3)),\n",
        "    MaxPooling2D(pool_size=(2, 2)),\n",
        "\n",
        "    # Segunda capa convolucional\n",
        "    Conv2D(64, (3, 3), activation='relu'),\n",
        "    MaxPooling2D(pool_size=(2, 2)),\n",
        "\n",
        "    # Tercera capa convolucional\n",
        "    Conv2D(128, (3, 3), activation='relu'),\n",
        "    MaxPooling2D(pool_size=(2, 2)),\n",
        "\n",
        "    # Aplanar las características\n",
        "    Flatten(),\n",
        "\n",
        "    # Capa completamente conectada\n",
        "    Dense(128, activation='relu'),\n",
        "    Dropout(0.5),  # Regularización para evitar overfitting\n",
        "\n",
        "    # Capa de salida\n",
        "    Dense(2, activation='softmax')  # 2 clases: gato y no gato\n",
        "])\n",
        "\n",
        "# Compilar el modelo\n",
        "model.compile(optimizer=Adam(learning_rate=0.001),\n",
        "              loss='categorical_crossentropy',\n",
        "              metrics=['accuracy'])\n",
        "\n",
        "# Resumen del modelo\n",
        "model.summary()"
      ]
    },
    {
      "cell_type": "markdown",
      "id": "5873edb4-f0af-4095-975e-5ac8b66d08ed",
      "metadata": {
        "id": "5873edb4-f0af-4095-975e-5ac8b66d08ed"
      },
      "source": [
        "### Step 5: Model summary"
      ]
    },
    {
      "cell_type": "markdown",
      "id": "a2e22511-790a-45b2-8bbd-0042afb3f15c",
      "metadata": {
        "id": "a2e22511-790a-45b2-8bbd-0042afb3f15c"
      },
      "source": [
        "To better understand our model, let's visualize its architecture using a simple plot.\n",
        "- **Summary**\n",
        "- **Architecture visualization**"
      ]
    },
    {
      "cell_type": "code",
      "execution_count": 9,
      "id": "ba891b5f-aa1b-425d-a09d-753af1269f55",
      "metadata": {
        "colab": {
          "base_uri": "https://localhost:8080/",
          "height": 594
        },
        "id": "ba891b5f-aa1b-425d-a09d-753af1269f55",
        "outputId": "ef8f826e-80b6-440e-8c42-7ea283f4f817"
      },
      "outputs": [
        {
          "output_type": "stream",
          "name": "stdout",
          "text": [
            "Collecting visualkeras\n",
            "  Downloading visualkeras-0.1.4-py3-none-any.whl.metadata (11 kB)\n",
            "Requirement already satisfied: pillow>=6.2.0 in /usr/local/lib/python3.10/dist-packages (from visualkeras) (11.0.0)\n",
            "Requirement already satisfied: numpy>=1.18.1 in /usr/local/lib/python3.10/dist-packages (from visualkeras) (1.26.4)\n",
            "Collecting aggdraw>=1.3.11 (from visualkeras)\n",
            "  Downloading aggdraw-1.3.19-cp310-cp310-manylinux_2_17_x86_64.manylinux2014_x86_64.whl.metadata (655 bytes)\n",
            "Downloading visualkeras-0.1.4-py3-none-any.whl (17 kB)\n",
            "Downloading aggdraw-1.3.19-cp310-cp310-manylinux_2_17_x86_64.manylinux2014_x86_64.whl (993 kB)\n",
            "\u001b[2K   \u001b[90m━━━━━━━━━━━━━━━━━━━━━━━━━━━━━━━━━━━━━━━━\u001b[0m \u001b[32m993.7/993.7 kB\u001b[0m \u001b[31m12.8 MB/s\u001b[0m eta \u001b[36m0:00:00\u001b[0m\n",
            "\u001b[?25hInstalling collected packages: aggdraw, visualkeras\n",
            "Successfully installed aggdraw-1.3.19 visualkeras-0.1.4\n"
          ]
        },
        {
          "output_type": "stream",
          "name": "stderr",
          "text": [
            "/usr/local/lib/python3.10/dist-packages/visualkeras/layered.py:86: UserWarning: The legend_text_spacing_offset parameter is deprecated and will be removed in a future release.\n",
            "  warnings.warn(\"The legend_text_spacing_offset parameter is deprecated and will be removed in a future release.\")\n"
          ]
        },
        {
          "output_type": "execute_result",
          "data": {
            "text/plain": [
              "<PIL.Image.Image image mode=RGBA size=735x331>"
            ],
            "image/png": "[encoded data removed]"
          },
          "metadata": {},
          "execution_count": 9
        }
      ],
      "source": [
        "!pip install visualkeras\n",
        "import visualkeras\n",
        "\n",
        "# Your code goes here ...\n",
        "visualkeras.layered_view(model)"
      ]
    },
    {
      "cell_type": "markdown",
      "id": "1ed26a4e-b987-44b7-a980-8bd1b7b6df12",
      "metadata": {
        "id": "1ed26a4e-b987-44b7-a980-8bd1b7b6df12"
      },
      "source": [
        "### Step 6: Train and evaluate the Model"
      ]
    },
    {
      "cell_type": "markdown",
      "id": "3b5d0fe9-9804-4410-969c-8af3272cb137",
      "metadata": {
        "id": "3b5d0fe9-9804-4410-969c-8af3272cb137"
      },
      "source": [
        "Train the model on the training set and evaluate its performance on the test set. You can start with `10 epochs`."
      ]
    },
    {
      "cell_type": "code",
      "execution_count": 11,
      "id": "dfe2f547-cbcc-488f-903f-890490aee5fc",
      "metadata": {
        "colab": {
          "base_uri": "https://localhost:8080/"
        },
        "id": "dfe2f547-cbcc-488f-903f-890490aee5fc",
        "outputId": "1e002ab0-130b-4c14-bd36-3fedfafc80ed"
      },
      "outputs": [
        {
          "output_type": "stream",
          "name": "stdout",
          "text": [
            "Epoch 1/10\n",
            "\u001b[1m7/7\u001b[0m \u001b[32m━━━━━━━━━━━━━━━━━━━━\u001b[0m\u001b[37m\u001b[0m \u001b[1m2s\u001b[0m 214ms/step - accuracy: 0.8582 - loss: 0.2810 - val_accuracy: 0.8400 - val_loss: 0.5948\n",
            "Epoch 2/10\n",
            "\u001b[1m7/7\u001b[0m \u001b[32m━━━━━━━━━━━━━━━━━━━━\u001b[0m\u001b[37m\u001b[0m \u001b[1m1s\u001b[0m 212ms/step - accuracy: 0.8813 - loss: 0.2574 - val_accuracy: 0.8600 - val_loss: 0.5097\n",
            "Epoch 3/10\n",
            "\u001b[1m7/7\u001b[0m \u001b[32m━━━━━━━━━━━━━━━━━━━━\u001b[0m\u001b[37m\u001b[0m \u001b[1m1s\u001b[0m 206ms/step - accuracy: 0.9048 - loss: 0.2204 - val_accuracy: 0.8800 - val_loss: 0.4616\n",
            "Epoch 4/10\n",
            "\u001b[1m7/7\u001b[0m \u001b[32m━━━━━━━━━━━━━━━━━━━━\u001b[0m\u001b[37m\u001b[0m \u001b[1m1s\u001b[0m 204ms/step - accuracy: 0.8985 - loss: 0.2333 - val_accuracy: 0.8400 - val_loss: 0.5946\n",
            "Epoch 5/10\n",
            "\u001b[1m7/7\u001b[0m \u001b[32m━━━━━━━━━━━━━━━━━━━━\u001b[0m\u001b[37m\u001b[0m \u001b[1m1s\u001b[0m 212ms/step - accuracy: 0.9101 - loss: 0.1855 - val_accuracy: 0.6400 - val_loss: 1.0847\n",
            "Epoch 6/10\n",
            "\u001b[1m7/7\u001b[0m \u001b[32m━━━━━━━━━━━━━━━━━━━━\u001b[0m\u001b[37m\u001b[0m \u001b[1m4s\u001b[0m 384ms/step - accuracy: 0.9265 - loss: 0.1852 - val_accuracy: 0.7200 - val_loss: 0.9139\n",
            "Epoch 7/10\n",
            "\u001b[1m7/7\u001b[0m \u001b[32m━━━━━━━━━━━━━━━━━━━━\u001b[0m\u001b[37m\u001b[0m \u001b[1m2s\u001b[0m 280ms/step - accuracy: 0.9522 - loss: 0.1517 - val_accuracy: 0.7800 - val_loss: 0.8165\n",
            "Epoch 8/10\n",
            "\u001b[1m7/7\u001b[0m \u001b[32m━━━━━━━━━━━━━━━━━━━━\u001b[0m\u001b[37m\u001b[0m \u001b[1m1s\u001b[0m 206ms/step - accuracy: 0.9372 - loss: 0.1408 - val_accuracy: 0.8000 - val_loss: 0.5525\n",
            "Epoch 9/10\n",
            "\u001b[1m7/7\u001b[0m \u001b[32m━━━━━━━━━━━━━━━━━━━━\u001b[0m\u001b[37m\u001b[0m \u001b[1m1s\u001b[0m 208ms/step - accuracy: 0.9402 - loss: 0.1757 - val_accuracy: 0.8400 - val_loss: 0.5134\n",
            "Epoch 10/10\n",
            "\u001b[1m7/7\u001b[0m \u001b[32m━━━━━━━━━━━━━━━━━━━━\u001b[0m\u001b[37m\u001b[0m \u001b[1m4s\u001b[0m 442ms/step - accuracy: 0.9531 - loss: 0.1440 - val_accuracy: 0.8800 - val_loss: 0.4767\n",
            "\u001b[1m2/2\u001b[0m \u001b[32m━━━━━━━━━━━━━━━━━━━━\u001b[0m\u001b[37m\u001b[0m \u001b[1m0s\u001b[0m 71ms/step - accuracy: 0.8888 - loss: 0.3963\n",
            "Test Loss: 0.4767198860645294\n",
            "Test Accuracy: 0.8799999952316284\n"
          ]
        }
      ],
      "source": [
        "# Your code goes here ...\n",
        "history = model.fit(train_images_resized, train_labels_categorical,\n",
        "                    validation_data=(test_images_resized, test_labels_categorical),\n",
        "                    epochs=10,\n",
        "                    batch_size=32)\n",
        "# Evaluar el modelo en el conjunto de prueba\n",
        "test_loss, test_accuracy = model.evaluate(test_images_resized, test_labels_categorical, verbose=1)\n",
        "\n",
        "print(f\"Test Loss: {test_loss}\")\n",
        "print(f\"Test Accuracy: {test_accuracy}\")"
      ]
    },
    {
      "cell_type": "markdown",
      "id": "2f308221-72f4-4e57-8f6b-e955d68e2582",
      "metadata": {
        "id": "2f308221-72f4-4e57-8f6b-e955d68e2582"
      },
      "source": [
        "### Step 7: Visualizing the results"
      ]
    },
    {
      "cell_type": "markdown",
      "id": "ab324eb1-8c8d-4bc3-b354-98b78fd4ad14",
      "metadata": {
        "id": "ab324eb1-8c8d-4bc3-b354-98b78fd4ad14"
      },
      "source": [
        "After training your model, it’s important to visualize the performance metrics to understand how well your model is performing. Visualize at least:\n",
        "- **Confusion matrix**.\n",
        "- **Accuracy**.\n",
        "- **Loss**.\n",
        "\n",
        "If you find it interesting, you can also consider visualizing additional metrics such as precision, recall, F1-score, or any other relevant performance metrics that could provide further insights into your model's behavior."
      ]
    },
    {
      "cell_type": "code",
      "execution_count": 12,
      "id": "7571de34-9275-48fe-8f0c-e39f62051a08",
      "metadata": {
        "colab": {
          "base_uri": "https://localhost:8080/",
          "height": 489
        },
        "id": "7571de34-9275-48fe-8f0c-e39f62051a08",
        "outputId": "bb84e479-24f6-4175-edf2-7c39e19854ab"
      },
      "outputs": [
        {
          "output_type": "stream",
          "name": "stdout",
          "text": [
            "\u001b[1m2/2\u001b[0m \u001b[32m━━━━━━━━━━━━━━━━━━━━\u001b[0m\u001b[37m\u001b[0m \u001b[1m1s\u001b[0m 199ms/step\n"
          ]
        },
        {
          "output_type": "display_data",
          "data": {
            "text/plain": [
              "<Figure size 640x480 with 2 Axes>"
            ],
            "image/png": "[encoded data removed]"
          },
          "metadata": {}
        }
      ],
      "source": [
        "from sklearn.metrics import confusion_matrix, ConfusionMatrixDisplay\n",
        "\n",
        "# Your code goes here ...\n",
        "# Predecir etiquetas del conjunto de prueba\n",
        "y_pred = model.predict(test_images_resized)\n",
        "y_pred_classes = np.argmax(y_pred, axis=1)  # Convertir a clases (0 o 1)\n",
        "y_true = np.argmax(test_labels_categorical, axis=1)  # Etiquetas reales\n",
        "\n",
        "# Crear la matriz de confusión\n",
        "cm = confusion_matrix(y_true, y_pred_classes)\n",
        "\n",
        "# Visualizar la matriz de confusión\n",
        "disp = ConfusionMatrixDisplay(confusion_matrix=cm, display_labels=['Cat', 'Non-Cat'])\n",
        "disp.plot(cmap='Blues')\n",
        "plt.title('Confusion Matrix')\n",
        "plt.show()"
      ]
    },
    {
      "cell_type": "code",
      "source": [
        "from sklearn.metrics import classification_report\n",
        "\n",
        "# Generar reporte de clasificación\n",
        "report = classification_report(y_true, y_pred_classes, target_names=['Cat', 'Non-Cat'])\n",
        "print(report)"
      ],
      "metadata": {
        "colab": {
          "base_uri": "https://localhost:8080/"
        },
        "id": "p-An3ETWexBR",
        "outputId": "61155111-5500-4cc2-f0aa-f4e7efa82102"
      },
      "id": "p-An3ETWexBR",
      "execution_count": 13,
      "outputs": [
        {
          "output_type": "stream",
          "name": "stdout",
          "text": [
            "              precision    recall  f1-score   support\n",
            "\n",
            "         Cat       0.87      0.76      0.81        17\n",
            "     Non-Cat       0.89      0.94      0.91        33\n",
            "\n",
            "    accuracy                           0.88        50\n",
            "   macro avg       0.88      0.85      0.86        50\n",
            "weighted avg       0.88      0.88      0.88        50\n",
            "\n"
          ]
        }
      ]
    },
    {
      "cell_type": "code",
      "source": [
        "# Graficar precisión y pérdida\n",
        "plt.figure(figsize=(12, 4))\n",
        "\n",
        "# Precisión\n",
        "plt.subplot(1, 2, 1)\n",
        "plt.plot(history.history['accuracy'], label='Train Accuracy')\n",
        "plt.plot(history.history['val_accuracy'], label='Validation Accuracy')\n",
        "plt.xlabel('Epochs')\n",
        "plt.ylabel('Accuracy')\n",
        "plt.legend()\n",
        "plt.title('Accuracy Over Epochs')\n",
        "\n",
        "# Pérdida\n",
        "plt.subplot(1, 2, 2)\n",
        "plt.plot(history.history['loss'], label='Train Loss')\n",
        "plt.plot(history.history['val_loss'], label='Validation Loss')\n",
        "plt.xlabel('Epochs')\n",
        "plt.ylabel('Loss')\n",
        "plt.legend()\n",
        "plt.title('Loss Over Epochs')\n",
        "\n",
        "plt.tight_layout()\n",
        "plt.show()\n"
      ],
      "metadata": {
        "colab": {
          "base_uri": "https://localhost:8080/",
          "height": 297
        },
        "id": "W4LXOnBte_q-",
        "outputId": "76dc0321-0fd4-4342-881f-406d92be73f7"
      },
      "id": "W4LXOnBte_q-",
      "execution_count": 14,
      "outputs": [
        {
          "output_type": "display_data",
          "data": {
            "text/plain": [
              "<Figure size 1200x400 with 2 Axes>"
            ],
            "image/png": "[encoded data removed]"
          },
          "metadata": {}
        }
      ]
    },
    {
      "cell_type": "markdown",
      "id": "5cc5a0a4-3779-4801-9fd0-6bca4c77eee2",
      "metadata": {
        "id": "5cc5a0a4-3779-4801-9fd0-6bca4c77eee2"
      },
      "source": [
        "### Step 8: Make Predictions with New Images"
      ]
    },
    {
      "cell_type": "markdown",
      "id": "a2935bcc-fd06-4a73-b476-270caff91486",
      "metadata": {
        "id": "a2935bcc-fd06-4a73-b476-270caff91486"
      },
      "source": [
        "Finally, let's search for some images online or use local images to test the model's predictions. We'll preprocess these images similarly to our training data."
      ]
    },
    {
      "cell_type": "code",
      "execution_count": 15,
      "id": "2a94c2c4-7ef7-46d8-82ed-e82be7f0b938",
      "metadata": {
        "id": "2a94c2c4-7ef7-46d8-82ed-e82be7f0b938"
      },
      "outputs": [],
      "source": [
        "from tensorflow.keras.preprocessing.image import load_img, img_to_array\n",
        "\n",
        "\n",
        "def preprocess_new_image(image_path, target_size=(64, 64)):\n",
        "    \"\"\"\n",
        "    Carga y preprocesa una nueva imagen.\n",
        "    Args:\n",
        "        image_path (str): Ruta de la imagen.\n",
        "        target_size (tuple): Tamaño al que redimensionar la imagen.\n",
        "    Returns:\n",
        "        np.array: Imagen preprocesada lista para el modelo.\n",
        "    \"\"\"\n",
        "    # Cargar la imagen\n",
        "    img = load_img(image_path, target_size=target_size)\n",
        "\n",
        "    # Convertir a un array\n",
        "    img_array = img_to_array(img)\n",
        "\n",
        "    # Normalizar los píxeles (0-255 -> 0-1)\n",
        "    img_array = img_array / 255.0\n",
        "\n",
        "    # Añadir dimensión de lote (batch_size=1)\n",
        "    img_array = np.expand_dims(img_array, axis=0)\n",
        "\n",
        "    return img_array\n",
        "\n",
        "def predict_new_image(image_path, model):\n",
        "    \"\"\"\n",
        "    Realiza una predicción en una nueva imagen.\n",
        "    Args:\n",
        "        image_path (str): Ruta de la imagen.\n",
        "        model (keras.Model): Modelo entrenado.\n",
        "    Returns:\n",
        "        str: Clase predicha.\n",
        "    \"\"\"\n",
        "    # Preprocesar la imagen\n",
        "    preprocessed_image = preprocess_new_image(image_path)\n",
        "\n",
        "    # Realizar predicción\n",
        "    prediction = model.predict(preprocessed_image)\n",
        "\n",
        "    # Obtener la clase predicha\n",
        "    class_idx = np.argmax(prediction)\n",
        "    class_labels = ['Cat', 'Non-Cat']  # Etiquetas de clases\n",
        "\n",
        "    return class_labels[class_idx]\n"
      ]
    },
    {
      "cell_type": "code",
      "source": [
        "# Ruta a una imagen local\n",
        "new_image_path = '/leon.jpeg'  # Reemplaza con la ruta de tu imagen\n",
        "\n",
        "# Realizar predicción\n",
        "predicted_class = predict_new_image(new_image_path, model)\n",
        "\n",
        "print(f\"Predicted Class: {predicted_class}\")\n"
      ],
      "metadata": {
        "colab": {
          "base_uri": "https://localhost:8080/"
        },
        "id": "-Cb2ZfqkgU3b",
        "outputId": "5e05ebc0-fd2d-4d75-a720-08eb5c6f9d6b"
      },
      "id": "-Cb2ZfqkgU3b",
      "execution_count": 22,
      "outputs": [
        {
          "output_type": "stream",
          "name": "stdout",
          "text": [
            "\u001b[1m1/1\u001b[0m \u001b[32m━━━━━━━━━━━━━━━━━━━━\u001b[0m\u001b[37m\u001b[0m \u001b[1m0s\u001b[0m 22ms/step\n",
            "Predicted Class: Cat\n"
          ]
        }
      ]
    },
    {
      "cell_type": "markdown",
      "id": "3c8176e8-040b-4ea5-967c-b55d89a6354e",
      "metadata": {
        "id": "3c8176e8-040b-4ea5-967c-b55d89a6354e"
      },
      "source": [
        "## Iteration 2: Fashion MNIST Classification"
      ]
    },
    {
      "cell_type": "markdown",
      "id": "f0dc087f-28aa-4102-91e4-434d09e9b10e",
      "metadata": {
        "id": "f0dc087f-28aa-4102-91e4-434d09e9b10e"
      },
      "source": [
        "In this iteration, we will work with the [Fashion MNIST dataset](https://www.tensorflow.org/datasets/catalog/fashion_mnist), which is a drop-in replacement for the classic MNIST dataset but with more complex images representing different types of clothing and accessories. The goal of this iteration is to build a Convolutional Neural Network (CNN) to classify images of fashion items into one of the 10 categories provided by the dataset.\n",
        "\n",
        "| Label | Description   |\n",
        "|-------|---------------|\n",
        "| 0     | T-shirt/top   |\n",
        "| 1     | Trouser       |\n",
        "| 2     | Pullover      |\n",
        "| 3     | Dress         |\n",
        "| 4     | Coat          |\n",
        "| 5     | Sandal        |\n",
        "| 6     | Shirt         |\n",
        "| 7     | Sneaker       |\n",
        "| 8     | Bag           |\n",
        "| 9     | Ankle boot    |\n",
        "\n",
        "The Fashion MNIST dataset consists of 70,000 grayscale images in 10 categories. The images show individual articles of clothing at low resolution (28x28 pixels), as seen in the figure below:\n",
        "\n",
        "![](https://miro.medium.com/v2/resize:fit:1400/1*1zuF9G8fq3hUTafkBLcRkQ.png)"
      ]
    },
    {
      "cell_type": "markdown",
      "id": "75e8c9bf-4dfa-4134-be2a-8d50fda80aa0",
      "metadata": {
        "id": "75e8c9bf-4dfa-4134-be2a-8d50fda80aa0"
      },
      "source": [
        "### Step 1: Load the Dataset"
      ]
    },
    {
      "cell_type": "markdown",
      "id": "d8e062db-0ccc-4433-88bf-0b04abb982ab",
      "metadata": {
        "id": "d8e062db-0ccc-4433-88bf-0b04abb982ab"
      },
      "source": [
        "We'll begin by importing the necessary libraries and loading the [Fashion MNIST dataset](https://www.tensorflow.org/datasets/catalog/fashion_mnist), which is available directly through TensorFlow's keras.datasets module."
      ]
    },
    {
      "cell_type": "code",
      "execution_count": null,
      "id": "177dd52a-db47-498c-bc39-c87b7be75693",
      "metadata": {
        "id": "177dd52a-db47-498c-bc39-c87b7be75693"
      },
      "outputs": [],
      "source": [
        "# Your code goes here ..."
      ]
    },
    {
      "cell_type": "markdown",
      "id": "2f34791c-fc22-430d-893b-2a64024eb2fd",
      "metadata": {
        "id": "2f34791c-fc22-430d-893b-2a64024eb2fd"
      },
      "source": [
        "### Step 2: Preprocess the Images"
      ]
    },
    {
      "cell_type": "markdown",
      "id": "f3dfe260-702d-4925-8b84-a087a15c3965",
      "metadata": {
        "id": "f3dfe260-702d-4925-8b84-a087a15c3965"
      },
      "source": [
        "In this step, we ensure that the images are preprocessed and ready to be fed into the neural network."
      ]
    },
    {
      "cell_type": "code",
      "execution_count": null,
      "id": "4d11d3b7-baea-4b06-a192-fde1c18f86d0",
      "metadata": {
        "id": "4d11d3b7-baea-4b06-a192-fde1c18f86d0"
      },
      "outputs": [],
      "source": [
        "# Your code goes here ..."
      ]
    },
    {
      "cell_type": "markdown",
      "id": "02a4af9b-7d7a-4a14-8df2-db4af0dea877",
      "metadata": {
        "id": "02a4af9b-7d7a-4a14-8df2-db4af0dea877"
      },
      "source": [
        "### Step 3: Visualize the Dataset"
      ]
    },
    {
      "cell_type": "markdown",
      "id": "5d026437-7697-4ea8-8fe1-a11a2b3fc735",
      "metadata": {
        "id": "5d026437-7697-4ea8-8fe1-a11a2b3fc735"
      },
      "source": [
        "Before building the model, it's useful to visualize some examples from the dataset to understand the nature of the images. This will give you insight into what the model will be learning to classify."
      ]
    },
    {
      "cell_type": "code",
      "execution_count": null,
      "id": "afdc93be-6b5b-4261-9045-be39e96c29e2",
      "metadata": {
        "id": "afdc93be-6b5b-4261-9045-be39e96c29e2"
      },
      "outputs": [],
      "source": [
        "# Your code goes here ..."
      ]
    },
    {
      "cell_type": "markdown",
      "id": "e5b1fb10-3341-49c1-b972-57d2e3957711",
      "metadata": {
        "id": "e5b1fb10-3341-49c1-b972-57d2e3957711"
      },
      "source": [
        "### Step 4: Build and Compile the Model"
      ]
    },
    {
      "cell_type": "markdown",
      "id": "d4728ba4-37c6-4924-b661-a7682cd87020",
      "metadata": {
        "id": "d4728ba4-37c6-4924-b661-a7682cd87020"
      },
      "source": [
        "We will build a Convolutional Neural Network (CNN) using TensorFlow/Keras. The model will consist of multiple convolutional layers followed by pooling layers and fully connected layers."
      ]
    },
    {
      "cell_type": "code",
      "execution_count": null,
      "id": "77292fd7-9f28-4c52-b7c7-3a30852439e0",
      "metadata": {
        "id": "77292fd7-9f28-4c52-b7c7-3a30852439e0"
      },
      "outputs": [],
      "source": [
        "# Your code goes here ..."
      ]
    },
    {
      "cell_type": "markdown",
      "id": "edfd80af-9291-46ad-8b57-6aba31228da1",
      "metadata": {
        "id": "edfd80af-9291-46ad-8b57-6aba31228da1"
      },
      "source": [
        "### Step 5: Model summary"
      ]
    },
    {
      "cell_type": "markdown",
      "id": "bfdb8e96-330c-4fa0-8afc-e06e8ae97bbf",
      "metadata": {
        "id": "bfdb8e96-330c-4fa0-8afc-e06e8ae97bbf"
      },
      "source": [
        "To better understand our model, let's visualize its architecture using a simple plot.\n",
        "- **Summary**\n",
        "- **Architecture visualization**"
      ]
    },
    {
      "cell_type": "code",
      "execution_count": null,
      "id": "cc390f2e-d999-4b24-affe-553ecf99a90b",
      "metadata": {
        "id": "cc390f2e-d999-4b24-affe-553ecf99a90b"
      },
      "outputs": [],
      "source": [
        "import visualkeras\n",
        "\n",
        "# Your code goes here ..."
      ]
    },
    {
      "cell_type": "markdown",
      "id": "d5b3db73-4e63-4e63-843a-e4bfec704519",
      "metadata": {
        "id": "d5b3db73-4e63-4e63-843a-e4bfec704519"
      },
      "source": [
        "### Step 6: Train the Model"
      ]
    },
    {
      "cell_type": "markdown",
      "id": "b52fcabc-1ae3-4867-9517-47d3593ad87d",
      "metadata": {
        "id": "b52fcabc-1ae3-4867-9517-47d3593ad87d"
      },
      "source": [
        "Now, we train the model on the training data and validate it on the test data."
      ]
    },
    {
      "cell_type": "code",
      "execution_count": null,
      "id": "4e0137dc-6c81-4d84-9834-86ff55802b47",
      "metadata": {
        "id": "4e0137dc-6c81-4d84-9834-86ff55802b47"
      },
      "outputs": [],
      "source": [
        "# Your code goes here ..."
      ]
    },
    {
      "cell_type": "markdown",
      "id": "7301e465-fd08-4b18-80e3-630d89d36b4f",
      "metadata": {
        "id": "7301e465-fd08-4b18-80e3-630d89d36b4f"
      },
      "source": [
        "### Step 7: Evaluate the Model"
      ]
    },
    {
      "cell_type": "markdown",
      "id": "da492986-46b5-43a4-91d7-e4fcf5cc34ff",
      "metadata": {
        "id": "da492986-46b5-43a4-91d7-e4fcf5cc34ff"
      },
      "source": [
        "After training, evaluate the model’s performance on the test dataset to see how well it generalizes."
      ]
    },
    {
      "cell_type": "code",
      "execution_count": null,
      "id": "38a5be60-e0c8-4a61-8c20-149aadc10503",
      "metadata": {
        "id": "38a5be60-e0c8-4a61-8c20-149aadc10503"
      },
      "outputs": [],
      "source": [
        "# Your code goes here ..."
      ]
    },
    {
      "cell_type": "markdown",
      "id": "6114d131-5b6c-4d51-aa58-f072eb5c9fe4",
      "metadata": {
        "id": "6114d131-5b6c-4d51-aa58-f072eb5c9fe4"
      },
      "source": [
        "### Step 8: Visualize the Results"
      ]
    },
    {
      "cell_type": "markdown",
      "id": "c895524b-2a08-46ea-8606-6966ec483891",
      "metadata": {
        "id": "c895524b-2a08-46ea-8606-6966ec483891"
      },
      "source": [
        "After training your model, it’s important to visualize the performance metrics to understand how well your model is performing. Visualize at least:\n",
        "- **Confusion matrix**.\n",
        "- **Accuracy**.\n",
        "- **Loss**.\n",
        "\n",
        "If you find it interesting, you can also consider visualizing additional metrics such as precision, recall, F1-score, or any other relevant performance metrics that could provide further insights into your model's behavior."
      ]
    },
    {
      "cell_type": "code",
      "execution_count": null,
      "id": "acae0e31-fc87-41d7-b087-ff560f18de1a",
      "metadata": {
        "id": "acae0e31-fc87-41d7-b087-ff560f18de1a"
      },
      "outputs": [],
      "source": [
        "# Your code goes here ..."
      ]
    },
    {
      "cell_type": "markdown",
      "id": "1637ab6e-e866-409d-bc3a-91e1da7702a1",
      "metadata": {
        "id": "1637ab6e-e866-409d-bc3a-91e1da7702a1"
      },
      "source": [
        "### Step 9: Make Predictions with New Images"
      ]
    },
    {
      "cell_type": "markdown",
      "id": "965c6710-995a-44ff-8a0d-4be8915b99b0",
      "metadata": {
        "id": "965c6710-995a-44ff-8a0d-4be8915b99b0"
      },
      "source": [
        "Finally, let's search for some images online or use local images to test the model's predictions. We'll preprocess these images similarly to our training data."
      ]
    },
    {
      "cell_type": "code",
      "execution_count": null,
      "id": "c2862c36-d3c5-4d20-8e9f-404c088a06e9",
      "metadata": {
        "id": "c2862c36-d3c5-4d20-8e9f-404c088a06e9"
      },
      "outputs": [],
      "source": [
        "# Your code goes here ..."
      ]
    }
  ],
  "metadata": {
    "kernelspec": {
      "display_name": "Python 3 (ipykernel)",
      "language": "python",
      "name": "python3"
    },
    "language_info": {
      "codemirror_mode": {
        "name": "ipython",
        "version": 3
      },
      "file_extension": ".py",
      "mimetype": "text/x-python",
      "name": "python",
      "nbconvert_exporter": "python",
      "pygments_lexer": "ipython3",
      "version": "3.12.4"
    },
    "colab": {
      "provenance": [],
      "include_colab_link": true
    }
  },
  "nbformat": 4,
  "nbformat_minor": 5
}